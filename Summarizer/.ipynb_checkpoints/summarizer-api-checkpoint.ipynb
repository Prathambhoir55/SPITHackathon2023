{
 "cells": [
  {
   "cell_type": "code",
   "execution_count": 15,
   "id": "5a25f3a8",
   "metadata": {},
   "outputs": [],
   "source": [
    "from summarizer import Summarizer\n",
    "from pdf2jpg import pdf2jpg\n",
    "import os\n",
    "import cv2 \n",
    "import pytesseract"
   ]
  },
  {
   "cell_type": "code",
   "execution_count": 21,
   "id": "679c9a67",
   "metadata": {},
   "outputs": [],
   "source": [
    "def pdf2string(pdf_path):\n",
    "    inputpath = pdf_path\n",
    "    outputpath = r\"\"\n",
    "    result = pdf2jpg.convert_pdf2jpg(inputpath,outputpath, pages=\"ALL\")\n",
    "    text2 = ''\n",
    "    for filename in os.listdir(pdf_path+'_dir'):\n",
    "        f = os.path.join(pdf_path+'_dir', filename)\n",
    "        print(f)\n",
    "        img = cv2.imread(f)\n",
    "\n",
    "        # img to string\n",
    "#         custom_config = r'--oem 3 --psm 6'\n",
    "        pytesseract.pytesseract.tesseract_cmd = r'D:\\Coding\\Hackathons\\StudyPat\\spitenv\\Lib\\site-packages\\Tesseract-OCR\\tesseract.exe'\n",
    "        text1 = pytesseract.image_to_string(img)\n",
    "        text2+=text1\n",
    "    text3 = text2.replace('\\n', '')\n",
    "    return text2"
   ]
  },
  {
   "cell_type": "code",
   "execution_count": 22,
   "id": "34f3cc84",
   "metadata": {},
   "outputs": [],
   "source": [
    "def summarizer(textpath):\n",
    "#     f = open(\"egypt.txt\",\"r\",encoding=\"utf8\")\n",
    "    full_text = pdf2string(textpath)\n",
    "\n",
    "    model = Summarizer()\n",
    "    result = model(full_text, min_length=60, max_length = 500 , ratio = 0.4)\n",
    "\n",
    "    summarized_text = ''.join(result)\n",
    "    print (summarized_text)\n",
    "    return summarized_text"
   ]
  },
  {
   "cell_type": "code",
   "execution_count": 23,
   "id": "086b2b21",
   "metadata": {},
   "outputs": [
    {
     "name": "stdout",
     "output_type": "stream",
     "text": [
      "egypt.pdf_dir\\0_egypt.pdf.jpg\n",
      "egypt.pdf_dir\\1_egypt.pdf.jpg\n",
      "egypt.pdf_dir\\2_egypt.pdf.jpg\n"
     ]
    },
    {
     "name": "stderr",
     "output_type": "stream",
     "text": [
      "Some weights of the model checkpoint at bert-large-uncased were not used when initializing BertModel: ['cls.predictions.transform.LayerNorm.bias', 'cls.predictions.transform.LayerNorm.weight', 'cls.predictions.transform.dense.bias', 'cls.predictions.decoder.weight', 'cls.predictions.bias', 'cls.seq_relationship.bias', 'cls.predictions.transform.dense.weight', 'cls.seq_relationship.weight']\n",
      "- This IS expected if you are initializing BertModel from the checkpoint of a model trained on another task or with another architecture (e.g. initializing a BertForSequenceClassification model from a BertForPreTraining model).\n",
      "- This IS NOT expected if you are initializing BertModel from the checkpoint of a model that you expect to be exactly identical (initializing a BertForSequenceClassification model from a BertForSequenceClassification model).\n",
      "D:\\Coding\\Hackathons\\StudyPat\\spitenv\\lib\\site-packages\\sklearn\\cluster\\_kmeans.py:870: FutureWarning: The default value of `n_init` will change from 10 to 'auto' in 1.4. Set the value of `n_init` explicitly to suppress the warning\n",
      "  warnings.warn(\n"
     ]
    },
    {
     "name": "stdout",
     "output_type": "stream",
     "text": [
      "The Nile River fed Egyptian civilization for hundreds of years. It begins near the equator in Africa and f\n",
      "lows north to the Mediterranean Sea. This soil was fertile, which means it was good for growing crops. The red land was the barren desert beyond the f\n",
      "ertile region. Isolation The harsh desert acted as a barrier to keep out enemies. Working together, they d\n",
      "ug irrigation canals that carried river water to dry areas. These innovative, or new, techniques gave them more farmland. They were the first to grind wheat into flour and to mix the flour with yeast and water to\n",
      "make dough rise into bread. They were the first to we\n",
      "ave fibers from flax plants into a fabric called linen. Egyptians often painted walls white to r\n",
      "eflect the blazing heat. Egypt\n",
      "ian nobles had fancier homes with tree-lined courtyards for shade. However, the natural resources of the area allowed other economic activitie\n",
      "s to develop too. Nubia was the Egyptian name for the area of the upper Nile that had the richest gold mines i\n",
      "n Africa. Even during the cool season, chipping minerals out of the rock wa\n",
      "s miserable work. A boomerang is\n",
      "a curved stick that returns to the person who threw it.) Ancient Egypt had no money, so people exchanged goods that they grew or made. This prosperity made life easier and provid\n",
      "ed greater opportunities for many Egyptians. F\n",
      "or example, some ancient Egyptians learned to be scribes, people whose job was to write and keep records. Some skilled artisans e\n",
      "rected stone or brick houses and temples. Other artisans made pottery, incense, mats, furniture, linen clothing, sandal\n",
      "s, or jewelry. These traders took Egyptian pr\n",
      "oducts such as scrolls, linen, gold, and jewelry. Egyptians created a government that divided the empire into 42 provinces. M\n",
      "any officials worked to keep the provinces running smoothly. Before entering\n",
      "a temple, a priest bathed and put on special linen garments and white sandals. Together, the priests and the ruler held ceremonies to please\n",
      "the gods. In Egypt, people became slaves if they owe\n",
      "da debt, committed a crime, or were captured in war. Unlike other ancient African cultures, in Egyptian society men and\n",
      "women had fairly equal rights. For example, they could both own and manage their own property. The main job of\n",
      "most women was to care for their children and home, but some did other jobs too. Children in Egypt played with toys such as dolls, animal figures, board games, and marbles. Boys and some girls from wealthy families went to schools run by scribes or priests. Almost all Egyptians married when they were in their early teens. To restore property lines, surveyors measured the land by using ropes that were knotted at regular intervals. Geometr\n",
      "ic shapes such as squares and triangles were sacred to Egyptians. Early Egyptians created a hieroglyphic system with about 700 characters. Egyptians cut the stems into strips, pressed them, and dried them into sheets that could\n",
      "be rolled into scrolls. Legend says a king named Narmer united Upper and Lower Egypt. Some historians think Narmer actually repre\n",
      "sents several kings who gradually joined the two lands. It\n",
      "combined the red Crown of Lower Egypt with the white Crown of Upper Egypt. When a king died, one of his childr\n",
      "en usually took his place as ruler. Historians divide ancient Egyptian dynasties into the Old Kingdom,\n",
      "the Middle Kingdom, and the New Kingdom. The Old Kingdom started about 2575 B.C., when the Egyptian empire\n",
      "was gaining strength. In such a case, a ri\n",
      "val might drive him from power and start a new dynasty. Because the pharaoh was thought to be a god, government\n",
      "and religion were not separate in ancient Egypt. It is called a step pyramid because its sides rise in a series of giant steps. He ordered the construction of the largest pyramid ever built. Miners cut the huge blocks of stone using copper saws and chisels. These tools were much sof\n",
      "ter than the iron tools developed later. One reason is that the pyramids dr\n",
      "ew attention to the tombs inside them. Grave robbers broke into the tombs to steal the treasure buried with the phara\n",
      "ohs. Egyptians believed that if a tomb was robbed, the person buried there\n",
      "could not have a happy afterlife. This way, the pharaohs ho\n",
      "ped to protect their bodies and treasures from robbers. This was to confuse grave robbers about which passage to take. Tombs were supposed to be the palaces of pharaohs in the afterlife. A sculpture of a dead pharaoh had “perfect” features, no matter how he really looked. Paintings showed a person’s head, arms, and legs from the side. Only a secret tomb built for a New Kingdom pharaoh\n",
      "was ever found with much of its treasure untouched. The dazzling riches found in this tomb show how much wealth\n",
      "the pharaohs spent preparing for the afterlife.\n"
     ]
    },
    {
     "data": {
      "text/plain": [
       "'The Nile River fed Egyptian civilization for hundreds of years. It begins near the equator in Africa and f\\nlows north to the Mediterranean Sea. This soil was fertile, which means it was good for growing crops. The red land was the barren desert beyond the f\\nertile region. Isolation The harsh desert acted as a barrier to keep out enemies. Working together, they d\\nug irrigation canals that carried river water to dry areas. These innovative, or new, techniques gave them more farmland. They were the first to grind wheat into flour and to mix the flour with yeast and water to\\nmake dough rise into bread. They were the first to we\\nave fibers from flax plants into a fabric called linen. Egyptians often painted walls white to r\\neflect the blazing heat. Egypt\\nian nobles had fancier homes with tree-lined courtyards for shade. However, the natural resources of the area allowed other economic activitie\\ns to develop too. Nubia was the Egyptian name for the area of the upper Nile that had the richest gold mines i\\nn Africa. Even during the cool season, chipping minerals out of the rock wa\\ns miserable work. A boomerang is\\na curved stick that returns to the person who threw it.) Ancient Egypt had no money, so people exchanged goods that they grew or made. This prosperity made life easier and provid\\ned greater opportunities for many Egyptians. F\\nor example, some ancient Egyptians learned to be scribes, people whose job was to write and keep records. Some skilled artisans e\\nrected stone or brick houses and temples. Other artisans made pottery, incense, mats, furniture, linen clothing, sandal\\ns, or jewelry. These traders took Egyptian pr\\noducts such as scrolls, linen, gold, and jewelry. Egyptians created a government that divided the empire into 42 provinces. M\\nany officials worked to keep the provinces running smoothly. Before entering\\na temple, a priest bathed and put on special linen garments and white sandals. Together, the priests and the ruler held ceremonies to please\\nthe gods. In Egypt, people became slaves if they owe\\nda debt, committed a crime, or were captured in war. Unlike other ancient African cultures, in Egyptian society men and\\nwomen had fairly equal rights. For example, they could both own and manage their own property. The main job of\\nmost women was to care for their children and home, but some did other jobs too. Children in Egypt played with toys such as dolls, animal figures, board games, and marbles. Boys and some girls from wealthy families went to schools run by scribes or priests. Almost all Egyptians married when they were in their early teens. To restore property lines, surveyors measured the land by using ropes that were knotted at regular intervals. Geometr\\nic shapes such as squares and triangles were sacred to Egyptians. Early Egyptians created a hieroglyphic system with about 700 characters. Egyptians cut the stems into strips, pressed them, and dried them into sheets that could\\nbe rolled into scrolls. Legend says a king named Narmer united Upper and Lower Egypt. Some historians think Narmer actually repre\\nsents several kings who gradually joined the two lands. It\\ncombined the red Crown of Lower Egypt with the white Crown of Upper Egypt. When a king died, one of his childr\\nen usually took his place as ruler. Historians divide ancient Egyptian dynasties into the Old Kingdom,\\nthe Middle Kingdom, and the New Kingdom. The Old Kingdom started about 2575 B.C., when the Egyptian empire\\nwas gaining strength. In such a case, a ri\\nval might drive him from power and start a new dynasty. Because the pharaoh was thought to be a god, government\\nand religion were not separate in ancient Egypt. It is called a step pyramid because its sides rise in a series of giant steps. He ordered the construction of the largest pyramid ever built. Miners cut the huge blocks of stone using copper saws and chisels. These tools were much sof\\nter than the iron tools developed later. One reason is that the pyramids dr\\new attention to the tombs inside them. Grave robbers broke into the tombs to steal the treasure buried with the phara\\nohs. Egyptians believed that if a tomb was robbed, the person buried there\\ncould not have a happy afterlife. This way, the pharaohs ho\\nped to protect their bodies and treasures from robbers. This was to confuse grave robbers about which passage to take. Tombs were supposed to be the palaces of pharaohs in the afterlife. A sculpture of a dead pharaoh had “perfect” features, no matter how he really looked. Paintings showed a person’s head, arms, and legs from the side. Only a secret tomb built for a New Kingdom pharaoh\\nwas ever found with much of its treasure untouched. The dazzling riches found in this tomb show how much wealth\\nthe pharaohs spent preparing for the afterlife.'"
      ]
     },
     "execution_count": 23,
     "metadata": {},
     "output_type": "execute_result"
    }
   ],
   "source": [
    "summarizer('egypt.pdf')"
   ]
  }
 ],
 "metadata": {
  "kernelspec": {
   "display_name": "Python (spitenv)",
   "language": "python",
   "name": "spitvenv"
  },
  "language_info": {
   "codemirror_mode": {
    "name": "ipython",
    "version": 3
   },
   "file_extension": ".py",
   "mimetype": "text/x-python",
   "name": "python",
   "nbconvert_exporter": "python",
   "pygments_lexer": "ipython3",
   "version": "3.9.6"
  }
 },
 "nbformat": 4,
 "nbformat_minor": 5
}
