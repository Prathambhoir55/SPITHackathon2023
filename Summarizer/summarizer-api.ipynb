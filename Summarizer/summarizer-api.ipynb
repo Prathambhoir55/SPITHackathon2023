{
 "cells": [
  {
   "cell_type": "code",
   "execution_count": 1,
   "id": "5a25f3a8",
   "metadata": {},
   "outputs": [],
   "source": [
    "def summarizerTool(pdf_path):\n",
    "    from summarizer import Summarizer\n",
    "    from pdf2jpg import pdf2jpg\n",
    "    import os\n",
    "    import cv2 \n",
    "    import pytesseract\n",
    "\n",
    "    inputpath = pdf_path\n",
    "    outputpath = r\"\"\n",
    "    result = pdf2jpg.convert_pdf2jpg(inputpath,outputpath, pages=\"ALL\")\n",
    "    text2 = ''\n",
    "    for filename in os.listdir(pdf_path+'_dir'):\n",
    "        f = os.path.join(pdf_path+'_dir', filename)\n",
    "        print(f)\n",
    "        img = cv2.imread(f)\n",
    "\n",
    "        # img to string\n",
    "        #custom_config = r'--oem 3 --psm 6'\n",
    "        #pytesseract.pytesseract.tesseract_cmd = r'D:\\Coding\\Hackathons\\StudyPat\\spitenv\\Lib\\site-packages\\Tesseract-OCR\\tesseract.exe'\n",
    "        text1 = pytesseract.image_to_string(img)\n",
    "        text2+=text1\n",
    "    text3 = text2.replace('\\n', '')\n",
    "\n",
    "    model = Summarizer()\n",
    "    result = model(text3, min_length=60, max_length = 500 , ratio = 0.4)\n",
    "\n",
    "    summarized_text = ''.join(result)\n",
    "    print (summarized_text)\n",
    "    return summarized_text"
   ]
  },
  {
   "cell_type": "code",
   "execution_count": 21,
   "id": "679c9a67",
   "metadata": {},
   "outputs": [],
   "source": []
  },
  {
   "cell_type": "code",
   "execution_count": 22,
   "id": "34f3cc84",
   "metadata": {},
   "outputs": [],
   "source": []
  },
  {
   "cell_type": "code",
   "execution_count": 2,
   "id": "086b2b21",
   "metadata": {},
   "outputs": [
    {
     "name": "stderr",
     "output_type": "stream",
     "text": [
      "D:\\Coding\\Hackathons\\StudyPat\\spitenv\\lib\\site-packages\\tqdm\\auto.py:22: TqdmWarning: IProgress not found. Please update jupyter and ipywidgets. See https://ipywidgets.readthedocs.io/en/stable/user_install.html\n",
      "  from .autonotebook import tqdm as notebook_tqdm\n"
     ]
    },
    {
     "name": "stdout",
     "output_type": "stream",
     "text": [
      "egypt.pdf_dir\\0_egypt.pdf.jpg\n",
      "egypt.pdf_dir\\1_egypt.pdf.jpg\n",
      "egypt.pdf_dir\\2_egypt.pdf.jpg\n"
     ]
    },
    {
     "name": "stderr",
     "output_type": "stream",
     "text": [
      "Some weights of the model checkpoint at bert-large-uncased were not used when initializing BertModel: ['cls.seq_relationship.weight', 'cls.predictions.transform.dense.bias', 'cls.predictions.transform.LayerNorm.weight', 'cls.predictions.bias', 'cls.predictions.transform.LayerNorm.bias', 'cls.predictions.decoder.weight', 'cls.seq_relationship.bias', 'cls.predictions.transform.dense.weight']\n",
      "- This IS expected if you are initializing BertModel from the checkpoint of a model trained on another task or with another architecture (e.g. initializing a BertForSequenceClassification model from a BertForPreTraining model).\n",
      "- This IS NOT expected if you are initializing BertModel from the checkpoint of a model that you expect to be exactly identical (initializing a BertForSequenceClassification model from a BertForSequenceClassification model).\n",
      "D:\\Coding\\Hackathons\\StudyPat\\spitenv\\lib\\site-packages\\sklearn\\cluster\\_kmeans.py:870: FutureWarning: The default value of `n_init` will change from 10 to 'auto' in 1.4. Set the value of `n_init` explicitly to suppress the warning\n",
      "  warnings.warn(\n"
     ]
    },
    {
     "name": "stdout",
     "output_type": "stream",
     "text": [
      "The Nile River fed Egyptian civilization for hundreds of years. It begins near the equator in Africa and flows north to the Mediterranean Sea. The river is called the upper Nile in the south and the lower Nile in the north. This soil was fertile, which means it was good for growing crops. RedLand, Black Land The ancient Egyptians lived in narrow bands of land on each side of the Nile. They called this region the black land because of the fertile soil that the floods deposited. The red land was the barren desert beyond the fertile region. Then they used a tool called a shaduf to spread the water across the fields. They were the first to grind wheat into flour and to mix the flour with yeast and water tomake dough rise into bread. Egyptians often painted walls white to reflect the blazing heat. Poorer Egyptians simply went to the roof to cool off after sunset. Egyptians looked for copper as early as 6000 B.C. Later they learned that iron was stronger, and they sought it as well. One ancient painting even shows a man ready to hit a catfish with a wooden hammer. A boomerang isa curved stick that returns to the person who threw it.) Going south, they raised a sail and let the winds that blew in that direction push them. The Nile provided so well for Egyptians that sometimes they had surpluses, or more goods than they needed. This prosperity made life easier and provided greater opportunities for many Egyptians. For example, some ancient Egyptians learned to be scribes, people whose job was to write and keep records. Some skilled artisans erected stone or brick houses and temples. These traders took Egyptian products such as scrolls, linen, gold, and jewelry. They brought back exotic woods, animal skins, and live beasts. Egyptians created a government that divided the empire into 42 provinces. Many officials worked to keep the provinces running smoothly. Priests followed formal rituals and took care of the temples. Before enteringa temple, a priest bathed and put on special linen garments and white sandals. Together, the priests and the ruler held ceremonies to pleasethe gods. In Egypt, people became slaves if they oweda debt, committed a crime, or were captured in war. Egypt was one of thebest places in the ancient world to be a woman. Unlike other ancient African cultures, in Egyptian society men andwomen had fairly equal rights. For example, they could both own and manage their own property. The main job ofmost women was to care for their children and home, but some did other jobs too. Children in Egypt played with toys such as dolls, animal figures, board games, and marbles. Almost all Egyptians married when they were in their early teens. As in many ancientsocieties, much of the knowledge of Egypt came about as priests studied the world to find ways to please the gods. Based on that, Egyptians developed the world’s first practical calendar. Doctors believed that the heart controlled thought and the brain circulated blood, which is the opposite of what is known now. Early Egyptians created a hieroglyphic system with about 700 characters. When a king died, one of his children usually took his place as ruler. The order in which members of a royal family inherit a throne is called the succession. Historians divide ancient Egyptian dynasties into the Old Kingdom,the Middle Kingdom, and the New Kingdom. The Old Kingdom started about 2575 B.C., when the Egyptian empirewas gaining strength. Egyptians believed that if the pharaoh and his subjects honored the gods, their lives would be happy. In such a case, a rival might drive him from power and start a new dynasty. The first rulers of Egypt were often buried in an underground tomb topped by mud brick. They replaced the mud brick with a small pyramid of brick or stone. It is called a step pyramid because its sides rise in a series of giant steps. About 80 years later, a pharaoh named Khufu decided he wanted a monumentthat would show the world how great he was. He ordered the construction of the largest pyramid ever built. Workers dragged each heavy block hundreds offeet and then set it in place. A city called Giza was built for the pyramid workers and the people whofed, clothed, and housed them. Grave robbers broke into the tombs to steal the treasure buried with the pharaohs. During the New Kingdom, pharaohs began building more secret tombs in an area called the Valley of the Kings. This way, the pharaohs hoped to protect their bodies and treasures from robbers. This was to confuse grave robbers about which passage to take. Sometimes relatives, suchas the queen, were buried in the extra rooms. Tombs were supposed to be the palaces of pharaohs in the afterlife. A sculpture of a dead pharaoh had “perfect” features, no matter how he really looked. Paintings showed a person’s head, arms, and legs from the side. Such activities included growing and preparing food, caring for animals, and building boats.\n"
     ]
    },
    {
     "data": {
      "text/plain": [
       "'The Nile River fed Egyptian civilization for hundreds of years. It begins near the equator in Africa and flows north to the Mediterranean Sea. The river is called the upper Nile in the south and the lower Nile in the north. This soil was fertile, which means it was good for growing crops. RedLand, Black Land The ancient Egyptians lived in narrow bands of land on each side of the Nile. They called this region the black land because of the fertile soil that the floods deposited. The red land was the barren desert beyond the fertile region. Then they used a tool called a shaduf to spread the water across the fields. They were the first to grind wheat into flour and to mix the flour with yeast and water tomake dough rise into bread. Egyptians often painted walls white to reflect the blazing heat. Poorer Egyptians simply went to the roof to cool off after sunset. Egyptians looked for copper as early as 6000 B.C. Later they learned that iron was stronger, and they sought it as well. One ancient painting even shows a man ready to hit a catfish with a wooden hammer. A boomerang isa curved stick that returns to the person who threw it.) Going south, they raised a sail and let the winds that blew in that direction push them. The Nile provided so well for Egyptians that sometimes they had surpluses, or more goods than they needed. This prosperity made life easier and provided greater opportunities for many Egyptians. For example, some ancient Egyptians learned to be scribes, people whose job was to write and keep records. Some skilled artisans erected stone or brick houses and temples. These traders took Egyptian products such as scrolls, linen, gold, and jewelry. They brought back exotic woods, animal skins, and live beasts. Egyptians created a government that divided the empire into 42 provinces. Many officials worked to keep the provinces running smoothly. Priests followed formal rituals and took care of the temples. Before enteringa temple, a priest bathed and put on special linen garments and white sandals. Together, the priests and the ruler held ceremonies to pleasethe gods. In Egypt, people became slaves if they oweda debt, committed a crime, or were captured in war. Egypt was one of thebest places in the ancient world to be a woman. Unlike other ancient African cultures, in Egyptian society men andwomen had fairly equal rights. For example, they could both own and manage their own property. The main job ofmost women was to care for their children and home, but some did other jobs too. Children in Egypt played with toys such as dolls, animal figures, board games, and marbles. Almost all Egyptians married when they were in their early teens. As in many ancientsocieties, much of the knowledge of Egypt came about as priests studied the world to find ways to please the gods. Based on that, Egyptians developed the world’s first practical calendar. Doctors believed that the heart controlled thought and the brain circulated blood, which is the opposite of what is known now. Early Egyptians created a hieroglyphic system with about 700 characters. When a king died, one of his children usually took his place as ruler. The order in which members of a royal family inherit a throne is called the succession. Historians divide ancient Egyptian dynasties into the Old Kingdom,the Middle Kingdom, and the New Kingdom. The Old Kingdom started about 2575 B.C., when the Egyptian empirewas gaining strength. Egyptians believed that if the pharaoh and his subjects honored the gods, their lives would be happy. In such a case, a rival might drive him from power and start a new dynasty. The first rulers of Egypt were often buried in an underground tomb topped by mud brick. They replaced the mud brick with a small pyramid of brick or stone. It is called a step pyramid because its sides rise in a series of giant steps. About 80 years later, a pharaoh named Khufu decided he wanted a monumentthat would show the world how great he was. He ordered the construction of the largest pyramid ever built. Workers dragged each heavy block hundreds offeet and then set it in place. A city called Giza was built for the pyramid workers and the people whofed, clothed, and housed them. Grave robbers broke into the tombs to steal the treasure buried with the pharaohs. During the New Kingdom, pharaohs began building more secret tombs in an area called the Valley of the Kings. This way, the pharaohs hoped to protect their bodies and treasures from robbers. This was to confuse grave robbers about which passage to take. Sometimes relatives, suchas the queen, were buried in the extra rooms. Tombs were supposed to be the palaces of pharaohs in the afterlife. A sculpture of a dead pharaoh had “perfect” features, no matter how he really looked. Paintings showed a person’s head, arms, and legs from the side. Such activities included growing and preparing food, caring for animals, and building boats.'"
      ]
     },
     "execution_count": 2,
     "metadata": {},
     "output_type": "execute_result"
    }
   ],
   "source": [
    "summarizerTool(pdf_path)"
   ]
  }
 ],
 "metadata": {
  "kernelspec": {
   "display_name": "Python (spitenv)",
   "language": "python",
   "name": "spitvenv"
  },
  "language_info": {
   "codemirror_mode": {
    "name": "ipython",
    "version": 3
   },
   "file_extension": ".py",
   "mimetype": "text/x-python",
   "name": "python",
   "nbconvert_exporter": "python",
   "pygments_lexer": "ipython3",
   "version": "3.9.6"
  }
 },
 "nbformat": 4,
 "nbformat_minor": 5
}
